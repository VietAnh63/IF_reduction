{
 "cells": [
  {
   "cell_type": "code",
   "execution_count": 2,
   "id": "945f7104",
   "metadata": {},
   "outputs": [],
   "source": [
    "import numpy as np\n",
    "import time"
   ]
  },
  {
   "cell_type": "code",
   "execution_count": 2,
   "id": "457613a5",
   "metadata": {},
   "outputs": [],
   "source": [
    "data = np.random.random((300,100))"
   ]
  },
  {
   "cell_type": "code",
   "execution_count": 3,
   "id": "c103a57d",
   "metadata": {},
   "outputs": [
    {
     "name": "stdout",
     "output_type": "stream",
     "text": [
      "[[(1.0, 0.0) (0.79, 0.12) (0.88, 0.06) ... (0.63, 0.23) (0.26, 0.59)\n",
      "  (0.9, 0.05)]\n",
      " [(0.79, 0.12) (1.0, 0.0) (0.91, 0.05) ... (0.84, 0.09) (0.47, 0.36)\n",
      "  (0.89, 0.06)]\n",
      " [(0.88, 0.06) (0.91, 0.05) (1.0, 0.0) ... (0.75, 0.14) (0.38, 0.45)\n",
      "  (0.98, 0.01)]\n",
      " ...\n",
      " [(0.63, 0.23) (0.84, 0.09) (0.75, 0.14) ... (1.0, 0.0) (0.63, 0.23)\n",
      "  (0.73, 0.16)]\n",
      " [(0.26, 0.59) (0.47, 0.36) (0.38, 0.45) ... (0.63, 0.23) (1.0, 0.0)\n",
      "  (0.36, 0.47)]\n",
      " [(0.9, 0.05) (0.89, 0.06) (0.98, 0.01) ... (0.73, 0.16) (0.36, 0.47)\n",
      "  (1.0, 0.0)]]\n",
      "90.90892767906189\n"
     ]
    }
   ],
   "source": [
    "st = time.time()\n",
    "for k in range(100):\n",
    "    column = data[:,k]\n",
    "    rel = np.empty((300,300), dtype=tuple)\n",
    "    for i in range(300):\n",
    "        for j in range(300):\n",
    "            mu = round(1 - abs(column[i] - column[j]),2)\n",
    "            v  = round((1 - mu) / (1 + 1 * mu),2)\n",
    "\n",
    "            rel[i][j] = (mu, v)\n",
    "print(rel)\n",
    "print(time.time()-st)"
   ]
  },
  {
   "cell_type": "code",
   "execution_count": 4,
   "id": "14d6328e",
   "metadata": {},
   "outputs": [
    {
     "name": "stdout",
     "output_type": "stream",
     "text": [
      "[[(1.0, 0, 2) (0.79, 0, 2) (0.88, 0, 2) ... (0.63, 0, 2) (0.26, 1, 2)\n",
      "  (0.9, 0, 2)]\n",
      " [(0.79, 0, 2) (1.0, 0, 2) (0.91, 0, 2) ... (0.84, 0, 2) (0.47, 0, 2)\n",
      "  (0.89, 0, 2)]\n",
      " [(0.88, 0, 2) (0.91, 0, 2) (1.0, 0, 2) ... (0.75, 0, 2) (0.38, 0, 2)\n",
      "  (0.98, 0, 2)]\n",
      " ...\n",
      " [(0.63, 0, 2) (0.84, 0, 2) (0.75, 0, 2) ... (1.0, 0, 2) (0.63, 0, 2)\n",
      "  (0.73, 0, 2)]\n",
      " [(0.26, 1, 2) (0.47, 0, 2) (0.38, 0, 2) ... (0.63, 0, 2) (1.0, 0, 2)\n",
      "  (0.36, 0, 2)]\n",
      " [(0.9, 0, 2) (0.89, 0, 2) (0.98, 0, 2) ... (0.73, 0, 2) (0.36, 0, 2)\n",
      "  (1.0, 0, 2)]]\n",
      "64.67011880874634\n"
     ]
    }
   ],
   "source": [
    "st = time.time()\n",
    "for k in range(100):\n",
    "    column = data[:,k]\n",
    "    rel = np.empty((300,300), dtype=tuple)\n",
    "    for i in range(300):\n",
    "        rel[i] = [(round(1 - abs(column[i]-column[j]),2),\n",
    "               round(abs(column[i]-column[j])/(1+1 - abs(column[i]-column[j]))),2) for j in range(300)]\n",
    "print(rel)\n",
    "print(time.time()-st)"
   ]
  },
  {
   "cell_type": "code",
   "execution_count": 7,
   "id": "57aa1b8f",
   "metadata": {},
   "outputs": [
    {
     "name": "stdout",
     "output_type": "stream",
     "text": [
      "71192.74000000308\n",
      "1.5807745456695557\n"
     ]
    }
   ],
   "source": [
    "st = time.time()\n",
    "caridnality = 0.\n",
    "for i in range(300):\n",
    "    for j in range(300):\n",
    "        mu = rel[i, j][0]\n",
    "        v  = rel[i, j][1]\n",
    "\n",
    "        caridnality += round(((1 + mu - v) / 2),2)\n",
    "print(caridnality)\n",
    "\n",
    "print(time.time()-st)"
   ]
  },
  {
   "cell_type": "code",
   "execution_count": 8,
   "id": "1d5d2254",
   "metadata": {},
   "outputs": [
    {
     "name": "stdout",
     "output_type": "stream",
     "text": [
      "71192.74000000308\n",
      "0.5016968250274658\n"
     ]
    }
   ],
   "source": [
    "st = time.time()\n",
    "\n",
    "caridnality = sum([round((1+x[0]-x[1])/2,2)for x in np.ravel(rel)])\n",
    "print(caridnality)\n",
    "\n",
    "print(time.time()-st)"
   ]
  },
  {
   "cell_type": "code",
   "execution_count": 3,
   "id": "901620c9",
   "metadata": {},
   "outputs": [],
   "source": [
    "IFRM_1 = np.random.random((400,400, 2))\n",
    "IFRM_2 = np.random.random((400,400, 2))"
   ]
  },
  {
   "cell_type": "code",
   "execution_count": null,
   "id": "16b92711",
   "metadata": {},
   "outputs": [],
   "source": [
    "st = time.time()\n",
    "result = np.empty((400, 400, 2), dtype=tuple)\n",
    "\n",
    "for i in range(400):\n",
    "    result[i] = [(min(IFRM_1[i,j][0], IFRM_2[i,j][0]), max(IFRM_1[i, j][1], IFRM_2[i, j][1]))for j  ]\n",
    "print(result)\n",
    "\n",
    "print(time.time()-st)"
   ]
  },
  {
   "cell_type": "code",
   "execution_count": 13,
   "id": "11cd715b",
   "metadata": {},
   "outputs": [
    {
     "data": {
      "text/plain": [
       "[(array([[1, 3],\n",
       "         [2, 3],\n",
       "         [4, 5]]),\n",
       "  array([[4, 1],\n",
       "         [4, 2],\n",
       "         [0, 8]])),\n",
       " (array([[1, 3],\n",
       "         [2, 3],\n",
       "         [4, 5]]),\n",
       "  array([[1, 3],\n",
       "         [2, 3],\n",
       "         [4, 5]]))]"
      ]
     },
     "execution_count": 13,
     "metadata": {},
     "output_type": "execute_result"
    }
   ],
   "source": [
    "a = np.array([[(1,3),(2,3),(4,5)],[(1,3),(2,3),(4,5)]])\n",
    "b = np.array([[(4,1),(4,2),(0,8)],[(1,3),(2,3),(4,5)]])\n",
    "list(zip(a,b))"
   ]
  },
  {
   "cell_type": "code",
   "execution_count": null,
   "id": "f4bd4411",
   "metadata": {},
   "outputs": [],
   "source": [
    "def mm(a,b):\n",
    "    return (min(a[0],b[0]), max(a[1],b[1]))\n",
    "for i in list(zip(a,b)):\n",
    "    k = [ for k in ]"
   ]
  }
 ],
 "metadata": {
  "kernelspec": {
   "display_name": "Python 3",
   "language": "python",
   "name": "python3"
  },
  "language_info": {
   "codemirror_mode": {
    "name": "ipython",
    "version": 3
   },
   "file_extension": ".py",
   "mimetype": "text/x-python",
   "name": "python",
   "nbconvert_exporter": "python",
   "pygments_lexer": "ipython3",
   "version": "3.8.8"
  }
 },
 "nbformat": 4,
 "nbformat_minor": 5
}
