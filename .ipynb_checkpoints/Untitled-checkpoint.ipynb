{
 "cells": [
  {
   "cell_type": "code",
   "execution_count": 1,
   "id": "f71ec0f7",
   "metadata": {},
   "outputs": [],
   "source": [
    "import numpy as np\n",
    "import time"
   ]
  },
  {
   "cell_type": "code",
   "execution_count": 2,
   "id": "816544b9",
   "metadata": {},
   "outputs": [],
   "source": [
    "data = np.random.random((100,100))"
   ]
  },
  {
   "cell_type": "code",
   "execution_count": 3,
   "id": "4fae1a2f",
   "metadata": {},
   "outputs": [
    {
     "name": "stdout",
     "output_type": "stream",
     "text": [
      "[[(1.0, 0.0) (0.8217372822082959, 0.09785314245510494)\n",
      "  (0.5858254649160528, 0.26117283663739876) ...\n",
      "  (0.15250589800260217, 0.7353490367955448)\n",
      "  (0.8900029465651952, 0.05819940843727701)\n",
      "  (0.39245144170962243, 0.43631579536047754)]\n",
      " [(0.8217372822082959, 0.09785314245510494) (1.0, 0.0)\n",
      "  (0.7640881827077569, 0.13373017267772536) ...\n",
      "  (0.3307686157943063, 0.5028908679261604)\n",
      "  (0.7117402287734911, 0.168401587098911)\n",
      "  (0.5707141595013265, 0.27330615051879587)]\n",
      " [(0.5858254649160528, 0.26117283663739876)\n",
      "  (0.7640881827077569, 0.13373017267772536) (1.0, 0.0) ...\n",
      "  (0.5666804330865494, 0.2765845272349249)\n",
      "  (0.475828411481248, 0.3551710920056455)\n",
      "  (0.8066259767935696, 0.10703600285302765)]\n",
      " ...\n",
      " [(0.15250589800260217, 0.7353490367955448)\n",
      "  (0.3307686157943063, 0.5028908679261604)\n",
      "  (0.5666804330865494, 0.2765845272349249) ... (1.0, 0.0)\n",
      "  (0.042508844567797355, 0.918448951700893)\n",
      "  (0.7600544562929797, 0.13632847713836804)]\n",
      " [(0.8900029465651952, 0.05819940843727701)\n",
      "  (0.7117402287734911, 0.168401587098911)\n",
      "  (0.475828411481248, 0.3551710920056455) ...\n",
      "  (0.042508844567797355, 0.918448951700893) (1.0, 0.0)\n",
      "  (0.2824543882748176, 0.5595096545230264)]\n",
      " [(0.39245144170962243, 0.43631579536047754)\n",
      "  (0.5707141595013265, 0.27330615051879587)\n",
      "  (0.8066259767935696, 0.10703600285302765) ...\n",
      "  (0.7600544562929797, 0.13632847713836804)\n",
      "  (0.2824543882748176, 0.5595096545230264) (1.0, 0.0)]]\n",
      "1.7711029052734375\n"
     ]
    }
   ],
   "source": [
    "st = time.time()\n",
    "for k in range(100):\n",
    "    column = data[:,k]\n",
    "    rel = np.empty((100,100), dtype=tuple)\n",
    "    for i in range(100):\n",
    "        for j in range(100):\n",
    "            mu = 1 - abs(column[i] - column[j])\n",
    "            v  = (1 - mu) / (1 + 1 * mu)\n",
    "\n",
    "            rel[i][j] = (mu, v)\n",
    "print(rel)\n",
    "print(time.time()-st)"
   ]
  },
  {
   "cell_type": "code",
   "execution_count": 5,
   "id": "be5584a4",
   "metadata": {},
   "outputs": [
    {
     "name": "stdout",
     "output_type": "stream",
     "text": [
      "[[None None None ... None None None]\n",
      " [None None None ... None None None]\n",
      " [None None None ... None None None]\n",
      " ...\n",
      " [None None None ... None None None]\n",
      " [None None None ... None None None]\n",
      " [(0.39245144170962243, 0.43631579536047754)\n",
      "  (0.5707141595013265, 0.27330615051879587)\n",
      "  (0.8066259767935696, 0.10703600285302765) ...\n",
      "  (0.7600544562929797, 0.13632847713836804)\n",
      "  (0.2824543882748176, 0.5595096545230264) (1.0, 0.0)]]\n",
      "0.029888629913330078\n"
     ]
    }
   ],
   "source": [
    "st = time.time()\n",
    "for k in range(100):\n",
    "    column = data[:,k]\n",
    "    rel = np.empty((100,100), dtype=tuple)\n",
    "    rel[i] = [tuple(1 - abs(column[i]-column[j]),abs(column[i]-column[j])/(1+1 - abs(column[i]-column[j]))) for j in range(100)]\n",
    "print(rel)\n",
    "print(time.time()-st)"
   ]
  },
  {
   "cell_type": "code",
   "execution_count": null,
   "id": "010ed6e5",
   "metadata": {},
   "outputs": [],
   "source": []
  }
 ],
 "metadata": {
  "kernelspec": {
   "display_name": "Python 3",
   "language": "python",
   "name": "python3"
  },
  "language_info": {
   "codemirror_mode": {
    "name": "ipython",
    "version": 3
   },
   "file_extension": ".py",
   "mimetype": "text/x-python",
   "name": "python",
   "nbconvert_exporter": "python",
   "pygments_lexer": "ipython3",
   "version": "3.8.8"
  }
 },
 "nbformat": 4,
 "nbformat_minor": 5
}
